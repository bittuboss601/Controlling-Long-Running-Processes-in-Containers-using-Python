{
 "cells": [
  {
   "cell_type": "code",
   "execution_count": null,
   "metadata": {},
   "outputs": [],
   "source": [
    "from flask import Flask\n",
    "from flask_restful import Resource, Api, reqparse\n",
    "import docker\n",
    "\n",
    "app = Flask(__name__)\n",
    "api = Api(app)\n",
    "\n",
    "\n",
    "class Contain(Resource):\n",
    "    def get(self):\n",
    "        client = docker.from_env()\n",
    "        c = {}\n",
    "        for container in client.containers.list():\n",
    "            c[container.name] = container.id\n",
    "        if len(c) > 0:\n",
    "            return [c,{200:'send POST request to the /container_name to pause,resume & terminate '}]\n",
    "        else:\n",
    "            return 'No containers are running'\n",
    "        \n",
    "    def post(self):\n",
    "        parser = reqparse.RequestParser()  # initialize\n",
    "        \n",
    "        parser.add_argument('ContainerName', required=True)  # add args\n",
    "        parser.add_argument('Pause', required=False)\n",
    "        parser.add_argument('Resume', required=False)\n",
    "        parser.add_argument('Terminate', required=False)\n",
    "        \n",
    "        args = parser.parse_args()  # parse arguments to dictionary\n",
    "        if 'pause' in args.values():\n",
    "            client = docker.from_env()\n",
    "            for container in client.containers.list():\n",
    "                if container.name == args['ContainerName']:\n",
    "                    container.pause()\n",
    "                    return {200:container.name+' is paused.'}\n",
    "            \n",
    "        elif 'resume' in args.values():\n",
    "            client = docker.from_env()\n",
    "            for container in client.containers.list():\n",
    "                if container.name == args['ContainerName']:\n",
    "                    container.unpause()\n",
    "                    return {200:container.name+' is resumed.'}\n",
    "            \n",
    "        elif 'terminate' in args.values():\n",
    "            client = docker.from_env()\n",
    "            for container in client.containers.list():\n",
    "                if container.name == args['ContainerName']:\n",
    "                    container.stop()\n",
    "                    return {200:container.name+' is terminated.'}\n",
    "            \n",
    "            \n",
    "\n",
    "api.add_resource(Contain, '/contain')  # add endpoints\n",
    "if __name__ == '__main__':\n",
    "    app.run()  # run our Flask app        "
   ]
  }
 ],
 "metadata": {
  "kernelspec": {
   "display_name": "Python 3",
   "language": "python",
   "name": "python3"
  },
  "language_info": {
   "codemirror_mode": {
    "name": "ipython",
    "version": 3
   },
   "file_extension": ".py",
   "mimetype": "text/x-python",
   "name": "python",
   "nbconvert_exporter": "python",
   "pygments_lexer": "ipython3",
   "version": "3.7.3"
  }
 },
 "nbformat": 4,
 "nbformat_minor": 2
}
