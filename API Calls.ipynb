{
 "cells": [
  {
   "cell_type": "markdown",
   "metadata": {},
   "source": [
    "### Note:- After getting the containers name from GET request, you can send post request to particular running container to perform different actions.\n",
    "\n",
    "***Where ContainerName= Name of running container received from GET request and actions will be Pause=pause to pause the processes of container, Resume=resume to resume the paused container processes and Terminate=terminate to terminate all the processes of container.*** "
   ]
  },
  {
   "cell_type": "code",
   "execution_count": null,
   "metadata": {},
   "outputs": [],
   "source": [
    "import requests\n",
    "response = requests.get('http://127.0.0.1:5000/contain')\n",
    "print(response.text)"
   ]
  },
  {
   "cell_type": "code",
   "execution_count": null,
   "metadata": {},
   "outputs": [],
   "source": [
    "post_response = requests.post('http://127.0.0.1:5000/contain?ContainerName=optimistic_bhaskara&Pause=pause')\n",
    "post_response.text"
   ]
  },
  {
   "cell_type": "code",
   "execution_count": null,
   "metadata": {},
   "outputs": [],
   "source": [
    "post_response = requests.post('http://127.0.0.1:5000/contain?ContainerName=optimistic_bhaskara&Resume=resume')\n",
    "post_response.text"
   ]
  },
  {
   "cell_type": "code",
   "execution_count": null,
   "metadata": {},
   "outputs": [],
   "source": [
    "post_response = requests.post('http://127.0.0.1:5000/contain?ContainerName=optimistic_bhaskara&Terminate=terminate')\n",
    "post_response.text"
   ]
  }
 ],
 "metadata": {
  "kernelspec": {
   "display_name": "Python 3",
   "language": "python",
   "name": "python3"
  },
  "language_info": {
   "codemirror_mode": {
    "name": "ipython",
    "version": 3
   },
   "file_extension": ".py",
   "mimetype": "text/x-python",
   "name": "python",
   "nbconvert_exporter": "python",
   "pygments_lexer": "ipython3",
   "version": "3.7.3"
  }
 },
 "nbformat": 4,
 "nbformat_minor": 2
}
